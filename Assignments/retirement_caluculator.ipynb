{
 "cells": [
  {
   "cell_type": "code",
   "execution_count": null,
   "metadata": {},
   "outputs": [],
   "source": [
    "#this is using a for loop\n",
    "acct_bal = int(input('What is your current account balance? '))\n",
    "deposit = int(input('How much will you contribute every year? '))\n",
    "cur_age = int(input('What is your current age? '))\n",
    "ret_age = int(input('What is your expected retirement age? '))\n",
    "\n",
    "salary = float(input('what is your current annual salary? '))\n",
    "rf_rate = float(input('what is your expected annual salary growth? '))\n",
    "match_rate = float(input('What is your company contribution rate? '))\n",
    "cmpnd_rate = float(input('What is the expected annual returns on your 401K? '))\n",
    "matching = 0 #placeholder\n",
    "\n",
    "for year in range(cur_age, ret_age):\n",
    "    salary *= 1 + rf_rate\n",
    "    matching = salary * match_rate\n",
    "    total_bal = deposit + matching\n",
    "    cmpnd_total = total_bal * cmpnd_rate\n",
    "    acct_bal += total_bal + cmpnd_total\n",
    "\n",
    "acct_bal"
   ]
  },
  {
   "cell_type": "code",
   "execution_count": null,
   "metadata": {},
   "outputs": [],
   "source": [
    "hello world"
   ]
  },
  {
   "cell_type": "code",
   "execution_count": 3,
   "metadata": {},
   "outputs": [
    {
     "name": "stdout",
     "output_type": "stream",
     "text": [
      "you are expected to hit  1007364.1510608543  at age of  76\n"
     ]
    }
   ],
   "source": [
    "#this is using a while loop\n",
    "deposit = int(input('How much will you contribute every year? '))\n",
    "cur_age = int(input('What is your current age? '))\n",
    "\n",
    "salary = float(input('What is your current annual salary? '))\n",
    "rf_rate = float(input('What is your expected annual salary growth? '))\n",
    "match_rate = float(input('What is your company contribution rate? '))\n",
    "cmpnd_rate = float(input('What is the expected annual returns on your 401K? '))\n",
    "xptd_retacc_bal = int(input('How much do you expect to have in your account balance when you retire? '))\n",
    "years_count = 0 #placeholder\n",
    "acct_bal = 0 #lets assume the person doesnt have an account yet\n",
    "\n",
    "while acct_bal < xptd_retacc_bal:\n",
    "    salary *= 1 + rf_rate\n",
    "    matching = salary * match_rate\n",
    "    total_bal = deposit + matching\n",
    "    cmpnd_total = total_bal * cmpnd_rate\n",
    "    acct_bal += total_bal+ cmpnd_total\n",
    "    years_count += 1\n",
    "\n",
    "ret_age = cur_age + years_count\n",
    "\n",
    "print('you are expected to hit ', xptd_retacc_bal, ' at age of ', ret_age)"
   ]
  }
 ],
 "metadata": {
  "kernelspec": {
   "display_name": "Python 3",
   "language": "python",
   "name": "python3"
  },
  "language_info": {
   "codemirror_mode": {
    "name": "ipython",
    "version": 3
   },
   "file_extension": ".py",
   "mimetype": "text/x-python",
   "name": "python",
   "nbconvert_exporter": "python",
   "pygments_lexer": "ipython3",
   "version": "3.11.3"
  },
  "orig_nbformat": 4
 },
 "nbformat": 4,
 "nbformat_minor": 2
}
