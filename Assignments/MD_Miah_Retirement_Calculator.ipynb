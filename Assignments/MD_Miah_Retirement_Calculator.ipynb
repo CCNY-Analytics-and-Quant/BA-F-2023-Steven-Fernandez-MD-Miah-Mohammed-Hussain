{
 "cells": [
  {
   "cell_type": "code",
   "execution_count": 24,
   "metadata": {},
   "outputs": [
    {
     "data": {
      "text/plain": [
       "4.471668554461659e+135"
      ]
     },
     "execution_count": 24,
     "metadata": {},
     "output_type": "execute_result"
    }
   ],
   "source": [
    "acct_bal = int(input('What is your account balance?'))\n",
    "deposit = int(input('How much will you contribute yearly?'))\n",
    "cur_age = int(input('What is your age?'))\n",
    "ret_age = int(input('What is your expected retirement age?'))\n",
    "salary = float(input('What is your yearly salary?'))\n",
    "rf_rate = float(input('What is your expected yearly salary growth?'))\n",
    "match_rate = float(input('What is your company contribution rate?'))\n",
    "cmpnd_rate = float(input('What is the expected yearly returns for your 401K?'))\n",
    "matching = 0\n",
    "for year in range(cur_age, ret_age):\n",
    "    salary *= 1 + rf_rate\n",
    "    matching = salary * match_rate\n",
    "    total_bal = deposit + matching\n",
    "    cmpnd_total = total_bal * cmpnd_rate\n",
    "    acct_bal += total_bal + cmpnd_total\n",
    "\n",
    "acct_bal"
   ]
  },
  {
   "cell_type": "code",
   "execution_count": 26,
   "metadata": {},
   "outputs": [
    {
     "name": "stdout",
     "output_type": "stream",
     "text": [
      "You are expected to reach 500000 at age of 22\n"
     ]
    }
   ],
   "source": [
    "deposit = int(input('How much will you contribute yearly?'))\n",
    "cur_age = int(input('What is your age?'))\n",
    "salary = float(input('What is your yearly salary?'))\n",
    "rf_rate = float(input('What is your expected yearly salary growth?'))\n",
    "match_rate = float(input('What is your company contribution rate?'))\n",
    "cmpnd_rate = float(input('What is the expected yearly returns for your 401K?'))\n",
    "xptd_retacc_bal = int(input('How much do you expect to have when you retire?'))\n",
    "years_count = 0\n",
    "acct_bal = 0\n",
    "while acct_bal < xptd_retacc_bal:\n",
    "    salary *= 1 + rf_rate\n",
    "    matching = salary * match_rate\n",
    "    total_bal = deposit + matching\n",
    "    cmpnd_total = total_bal * cmpnd_rate\n",
    "    acct_bal += total_bal+ cmpnd_total\n",
    "    years_count += 1\n",
    "    ret_age = cur_age + years_count\n",
    "print('You are expected to reach', xptd_retacc_bal, 'at age of', ret_age)"
   ]
  },
  {
   "cell_type": "code",
   "execution_count": 36,
   "metadata": {},
   "outputs": [],
   "source": [
    "def interest_calc(\n",
    "    cur_age: int,\n",
    "    cmpnd_rate: float,\n",
    "    salaries: list = [65000],\n",
    "    rf_rate: float = 0.025,\n",
    "    match_rate=0.05,\n",
    "    acct_bal=5000,\n",
    "    deposits: list = [22500],\n",
    "    ret_age=67,):\n",
    "    for inp_salary in salaries:\n",
    "        for deposit in deposits:\n",
    "            for year in range(cur_age, ret_age):\n",
    "                salary = inp_salary * (1 + rf_rate)\n",
    "                matching = salary * match_rate\n",
    "                total_bal = deposit + matching\n",
    "                cmpnd_total = total_bal * cmpnd_rate\n",
    "                acct_bal += total_bal + cmpnd_total\n",
    "            print(inp_salary, deposit, int(acct_bal))"
   ]
  },
  {
   "cell_type": "code",
   "execution_count": 42,
   "metadata": {},
   "outputs": [],
   "source": [
    "def retageamount_calc(\n",
    "xptd_retacc_bal: float,\n",
    "cur_age: int,\n",
    "cmpnd_rate: float,\n",
    "salaries: list = [65000],\n",
    "rf_rate: float = 0.025,\n",
    "match_rate: float = 0.05,\n",
    "acct_bal: float = 5000,\n",
    "deposits: list = [22500],\n",
    "ret_age = 67,\n",
    "years_count = 0):\n",
    "    for inp_salary in salaries:\n",
    "        for deposit in deposits:\n",
    "            while acct_bal < xptd_retacc_bal:\n",
    "                salary = inp_salary * (1 + rf_rate)\n",
    "                matching = salary * match_rate\n",
    "                total_bal = deposit + matching\n",
    "                cmpnd_total = total_bal * cmpnd_rate\n",
    "                acct_bal += total_bal+ cmpnd_total\n",
    "                years_count += 1\n",
    "                ret_age = cur_age + years_count\n",
    "        print(inp_salary, deposit, int(ret_age))"
   ]
  },
  {
   "cell_type": "code",
   "execution_count": 43,
   "metadata": {},
   "outputs": [
    {
     "name": "stdout",
     "output_type": "stream",
     "text": [
      "65000 22500 1330143\n",
      "70000 22500 2668431\n"
     ]
    }
   ],
   "source": [
    "savings_deposits = [15000, 20000, 22500]\n",
    "salary_list = [65000, 70000]\n",
    "interest_calc(22, float(input('What is the expected yearly returns for your 401K?')), salaries=salary_list)"
   ]
  },
  {
   "cell_type": "code",
   "execution_count": 44,
   "metadata": {},
   "outputs": [
    {
     "name": "stdout",
     "output_type": "stream",
     "text": [
      "65000 22500 38\n"
     ]
    }
   ],
   "source": [
    "retageamount_calc(float(input('How much do you expect to have when you retire?')),\n",
    "int(input('What is your age?')), \n",
    "float(input('What is the expected yearly returns for your 401K?')))"
   ]
  },
  {
   "cell_type": "code",
   "execution_count": 50,
   "metadata": {},
   "outputs": [
    {
     "name": "stdout",
     "output_type": "stream",
     "text": [
      "65000 22500 38\n"
     ]
    }
   ],
   "source": [
    "option = input('Write \"Retirement Account Balance\" to calculate account balanace by desired retirement age or write \"Retirement Age\" to caluclate retirement age by desired amount of money wished to achieve')\n",
    "if option == 'Retirement Account Balance':\n",
    "    interest_calc(int(input('What is your age?')),\n",
    "float(input('What is the expected annual returns on your 401K?')), \n",
    "salaries=salary_list)\n",
    "elif option == 'Retirement Age': \n",
    "    retageamount_calc(float(input('How much do you expect to have when you retire?')),\n",
    "int(input('What is your age?')), \n",
    "float(input('What is the expected yearly returns for your 401K?')))\n",
    "else: \n",
    "    print('Error')"
   ]
  },
  {
   "cell_type": "markdown",
   "metadata": {},
   "source": [
    "#Credit to John Droescher"
   ]
  }
 ],
 "metadata": {
  "kernelspec": {
   "display_name": "Python 3.11.6 64-bit",
   "language": "python",
   "name": "python3"
  },
  "language_info": {
   "codemirror_mode": {
    "name": "ipython",
    "version": 3
   },
   "file_extension": ".py",
   "mimetype": "text/x-python",
   "name": "python",
   "nbconvert_exporter": "python",
   "pygments_lexer": "ipython3",
   "version": "3.11.6"
  },
  "orig_nbformat": 4,
  "vscode": {
   "interpreter": {
    "hash": "b0fa6594d8f4cbf19f97940f81e996739fb7646882a419484c72d19e05852a7e"
   }
  }
 },
 "nbformat": 4,
 "nbformat_minor": 2
}
