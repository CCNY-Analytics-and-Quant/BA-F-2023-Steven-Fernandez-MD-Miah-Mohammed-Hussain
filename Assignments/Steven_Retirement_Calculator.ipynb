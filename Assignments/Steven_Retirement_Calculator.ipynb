{
 "cells": [
  {
   "cell_type": "code",
   "execution_count": null,
   "metadata": {},
   "outputs": [],
   "source": [
    "#this is using a for loop\n",
    "acct_bal = int(input('What is your current account balance? '))\n",
    "deposit = int(input('How much will you contribute every year? '))\n",
    "cur_age = int(input('What is your current age? '))\n",
    "ret_age = int(input('What is your expected retirement age? '))\n",
    "\n",
    "salary = float(input('what is your current annual salary? '))\n",
    "rf_rate = float(input('what is your expected annual salary growth? '))\n",
    "match_rate = float(input('What is your company contribution rate? '))\n",
    "cmpnd_rate = float(input('What is the expected annual returns on your 401K? '))\n",
    "matching = 0 #placeholder\n",
    "\n",
    "for year in range(cur_age, ret_age):\n",
    "    salary *= 1 + rf_rate\n",
    "    matching = salary * match_rate\n",
    "    total_bal = deposit + matching\n",
    "    cmpnd_total = total_bal * cmpnd_rate\n",
    "    acct_bal += total_bal + cmpnd_total\n",
    "\n",
    "acct_bal"
   ]
  },
  {
   "cell_type": "code",
   "execution_count": 1,
   "metadata": {},
   "outputs": [
    {
     "name": "stdout",
     "output_type": "stream",
     "text": [
      "you are expected to hit  1000000  at age of  68\n"
     ]
    }
   ],
   "source": [
    "#this is using a while loop\n",
    "deposit = int(input('How much will you contribute every year? '))\n",
    "cur_age = int(input('What is your current age? '))\n",
    "\n",
    "salary = float(input('What is your current annual salary? '))\n",
    "rf_rate = float(input('What is your expected annual salary growth? '))\n",
    "match_rate = float(input('What is your company contribution rate? '))\n",
    "cmpnd_rate = float(input('What is the expected annual returns on your 401K? '))\n",
    "xptd_retacc_bal = int(input('How much do you expect to have in your account balance when you retire? '))\n",
    "years_count = 0 #placeholder\n",
    "acct_bal = 0 #lets assume the person doesnt have an account yet\n",
    "\n",
    "while acct_bal < xptd_retacc_bal:\n",
    "    salary *= 1 + rf_rate\n",
    "    matching = salary * match_rate\n",
    "    total_bal = deposit + matching\n",
    "    cmpnd_total = total_bal * cmpnd_rate\n",
    "    acct_bal += total_bal+ cmpnd_total\n",
    "    years_count += 1\n",
    "\n",
    "ret_age = cur_age + years_count\n",
    "\n",
    "print('you are expected to hit ', round(xptd_retacc_bal), ' at age of ', ret_age)"
   ]
  },
  {
   "cell_type": "code",
   "execution_count": 41,
   "metadata": {},
   "outputs": [],
   "source": [
    "#For Loop Definition Function\n",
    "def interest_calc(\n",
    "    cur_age: int,\n",
    "    cmpnd_rate: float,\n",
    "    salaries: list = [65000],\n",
    "    rf_rate: float = 0.025,\n",
    "    match_rate=0.05,\n",
    "    acct_bal=5000,\n",
    "    deposits: list = [22500],\n",
    "    ret_age=67,\n",
    "):\n",
    "    for inp_salary in salaries:\n",
    "        for deposit in deposits:\n",
    "            for year in range(cur_age, ret_age):\n",
    "                salary = inp_salary * (1 + rf_rate)\n",
    "                matching = salary * match_rate\n",
    "                total_bal = deposit + matching\n",
    "                cmpnd_total = total_bal * cmpnd_rate\n",
    "                acct_bal += total_bal + cmpnd_total\n",
    "            print(inp_salary, deposit, int(acct_bal))"
   ]
  },
  {
   "cell_type": "code",
   "execution_count": 29,
   "metadata": {},
   "outputs": [],
   "source": [
    "#While Loop Definition Function\n",
    "\n",
    "def retageamount_calc(\n",
    "    xptd_retacc_bal: float,\n",
    "    cur_age: int,\n",
    "    cmpnd_rate: float,\n",
    "    salaries: list = [65000],\n",
    "    rf_rate: float = 0.025,\n",
    "    match_rate: float = 0.05,\n",
    "    acct_bal: float = 5000,\n",
    "    deposits: list = [22500],\n",
    "    ret_age = 67,\n",
    "    years_count = 0\n",
    "):\n",
    "    for inp_salary in salaries:\n",
    "        for deposit in deposits:\n",
    "            while acct_bal < xptd_retacc_bal:\n",
    "                salary = inp_salary * (1 + rf_rate)\n",
    "                matching = salary * match_rate\n",
    "                total_bal = deposit + matching\n",
    "                cmpnd_total = total_bal * cmpnd_rate\n",
    "                acct_bal += total_bal+ cmpnd_total\n",
    "                years_count += 1\n",
    "    \n",
    "            ret_age = cur_age + years_count\n",
    "\n",
    "            print(\"Salary:\", inp_salary, \"Current Bank Balance Deposit:\", deposit, \"Expected Retirement Age:\", int(ret_age))"
   ]
  },
  {
   "cell_type": "code",
   "execution_count": 40,
   "metadata": {},
   "outputs": [
    {
     "name": "stdout",
     "output_type": "stream",
     "text": [
      "65000 22500 1330143\n",
      "70000 22500 2668431\n"
     ]
    }
   ],
   "source": [
    "#For Loop Function Test\n",
    "savings_deposits = [15000, 20000, 22500]\n",
    "salary_list = [65000, 70000]\n",
    "\n",
    "interest_calc(22, float(input('What is the expected annual returns on your 401K? ')), salaries=salary_list)"
   ]
  },
  {
   "cell_type": "code",
   "execution_count": 50,
   "metadata": {},
   "outputs": [
    {
     "name": "stdout",
     "output_type": "stream",
     "text": [
      "Salary: 65000 Current Bank Balance Deposit: 22500 Expected Retirement Age: 56\n"
     ]
    }
   ],
   "source": [
    "#While Loop Function Test\n",
    "retageamount_calc(float(input('How much do you expect to have in your account balance when you retire? ')),\n",
    "                  int(input('What is your current age? ')), \n",
    "                  float(input('What is the expected annual returns on your 401K? '))\n",
    "                  )"
   ]
  },
  {
   "cell_type": "markdown",
   "metadata": {},
   "source": [
    "# Credit to John Droescher"
   ]
  },
  {
   "cell_type": "code",
   "execution_count": 48,
   "metadata": {},
   "outputs": [
    {
     "name": "stdout",
     "output_type": "stream",
     "text": [
      "Salary: 65000 Current Bank Balance Deposit: 22500 Expected Retirement Age: 56\n"
     ]
    }
   ],
   "source": [
    "#Integrating a feature that lets you decide which definition function to use based on the end-user's needs of wether they want to calculate how much they will have in their account balance by the time they retire or if they wish to calcualte their retirement age if they want achieve a certain amount of wealth \n",
    "option = input('Write \"Retirement Account Balance\" to estimate your account balanace by retirement with your current financial profile or write \"Retirement Age\" to caluclate your retirement age by the amount of wealth you wish to achieve')\n",
    "\n",
    "if option == 'Retirement Account Balance':\n",
    "    interest_calc(int(input('What is your current age? ')), \n",
    "                  float(input('What is the expected annual returns on your 401K? ')), \n",
    "                  salaries=salary_list\n",
    "                  )\n",
    "else:\n",
    "    retageamount_calc(float(input('How much do you expect to have in your account balance when you retire? ')),\n",
    "                  int(input('What is your current age? ')), \n",
    "                  float(input('What is the expected annual returns on your 401K? '))\n",
    "                  )"
   ]
  }
 ],
 "metadata": {
  "kernelspec": {
   "display_name": "Python 3",
   "language": "python",
   "name": "python3"
  },
  "language_info": {
   "codemirror_mode": {
    "name": "ipython",
    "version": 3
   },
   "file_extension": ".py",
   "mimetype": "text/x-python",
   "name": "python",
   "nbconvert_exporter": "python",
   "pygments_lexer": "ipython3",
   "version": "3.11.3"
  },
  "orig_nbformat": 4
 },
 "nbformat": 4,
 "nbformat_minor": 2
}
